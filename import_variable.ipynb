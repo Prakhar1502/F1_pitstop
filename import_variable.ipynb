{
 "cells": [
  {
   "cell_type": "code",
   "execution_count": 0,
   "metadata": {
    "application/vnd.databricks.v1+cell": {
     "cellMetadata": {},
     "inputWidgets": {},
     "nuid": "28fded37-ca98-4fd7-a9d1-69216abea5a4",
     "showTitle": false,
     "title": ""
    }
   },
   "outputs": [],
   "source": [
    "raw_container = \"/mnt/f1pitstopdb1/raw\"\n",
    "process_container = \"/mnt/f1pitstopdb1/process\"\n",
    "presentation_container = \"/mnt/f1pitstopdb1/presentation\""
   ]
  },
  {
   "cell_type": "code",
   "execution_count": 0,
   "metadata": {
    "application/vnd.databricks.v1+cell": {
     "cellMetadata": {},
     "inputWidgets": {},
     "nuid": "1b39bb0e-887d-40ae-9b7e-1ed1a0639674",
     "showTitle": false,
     "title": ""
    }
   },
   "outputs": [],
   "source": []
  }
 ],
 "metadata": {
  "application/vnd.databricks.v1+notebook": {
   "dashboards": [],
   "language": "python",
   "notebookMetadata": {
    "pythonIndentUnit": 4
   },
   "notebookName": "import_variable",
   "notebookOrigID": 3365169202383216,
   "widgets": {}
  }
 },
 "nbformat": 4,
 "nbformat_minor": 0
}
